{
 "cells": [
  {
   "cell_type": "code",
   "execution_count": null,
   "metadata": {
    "colab": {
     "base_uri": "https://localhost:8080/"
    },
    "id": "2Pruosmt0zJG",
    "outputId": "005e6f94-2e97-4250-e5ec-54175c538280"
   },
   "outputs": [],
   "source": [
    "!pip install pyspark py4j"
   ]
  },
  {
   "cell_type": "markdown",
   "metadata": {
    "id": "uw5vlBhwbnoq"
   },
   "source": [
    "**Initialization**"
   ]
  },
  {
   "cell_type": "code",
   "execution_count": 2,
   "metadata": {
    "id": "cR2eniUg4ogp"
   },
   "outputs": [],
   "source": [
    "import sys\n",
    "\n",
    "from pyspark.sql import SparkSession\n",
    "from pyspark.context import SparkContext\n",
    "\n",
    "ss = SparkSession \\\n",
    "    .builder \\\n",
    "    .appName(\"BigData\") \\\n",
    "    .master(\"local\")\\\n",
    "    .getOrCreate()"
   ]
  },
  {
   "cell_type": "markdown",
   "metadata": {
    "id": "C69rTbPU1fj6"
   },
   "source": [
    "**Matrix-Vector Multiplication**"
   ]
  },
  {
   "cell_type": "code",
   "execution_count": 5,
   "metadata": {
    "colab": {
     "base_uri": "https://localhost:8080/"
    },
    "id": "9wCQnm6RpYwL",
    "outputId": "7aed0bbf-30fb-4d75-d1cf-d7fcc270b7c7"
   },
   "outputs": [
    {
     "name": "stdout",
     "output_type": "stream",
     "text": [
      "[((1, 1), 5.0), ((1, 2), 5.0), ((2, 1), 1.0), ((2, 2), 1.0)]\n",
      "[((1, 1), 5.0), ((2, 1), 5.0), ((1, 2), 6.0), ((2, 2), 6.0)]\n",
      "[(2, 11.0), (1, 55.0)]\n"
     ]
    }
   ],
   "source": [
    "rddA = ss.read.csv(\"A.csv\", header= True).rdd\n",
    "rddv = ss.read.csv(\"v.csv\", header= True).rdd\n",
    "\n",
    "rA = rddA.map(lambda x: ((int(x[0]), int(x[1])), (float(x[2]))))\n",
    "rv = rddv.flatMap(lambda x: [((j,int(x[0])), (float(x[1]))) for j in range(1,3,1)])\n",
    "r = rA+rv\n",
    "r = r.reduceByKey(lambda x,y: x*y).map(lambda x: (x[0][0],x[1])).reduceByKey(lambda x,y: x+y)\n",
    "\n",
    "print(rA.collect(), rv.collect(), r.collect(), sep='\\n')"
   ]
  },
  {
   "cell_type": "markdown",
   "metadata": {
    "id": "y5FFvbwgwSdR"
   },
   "source": [
    "**Relational-Algebra Operations**"
   ]
  },
  {
   "cell_type": "code",
   "execution_count": 6,
   "metadata": {
    "colab": {
     "base_uri": "https://localhost:8080/"
    },
    "id": "qJ65b7NuPVS1",
    "outputId": "9ee78673-236d-43d6-d18c-db34d598991c"
   },
   "outputs": [
    {
     "data": {
      "text/plain": [
       "[('url12', ('url46', 'url12')),\n",
       " ('url48', ('url47', 'url48', 'url10', 'url48')),\n",
       " ('url26', ('url44', 'url26', 'url26', 'url43')),\n",
       " ('url3', ('url25', 'url3')),\n",
       " ('url36', ('url46', 'url36', 'url36', 'url48')),\n",
       " ('url42', ('url43', 'url42')),\n",
       " ('url37', ('url31', 'url37')),\n",
       " ('url10', ('url10', 'url13', 'url10', 'url25')),\n",
       " ('url8', ('url8', 'url47')),\n",
       " ('url29', ('url29', 'url31')),\n",
       " ('url16', ('url16', 'url48', 'url16', 'url4')),\n",
       " ('url43', ('url43', 'url25')),\n",
       " ('url27', ('url27', 'url49')),\n",
       " ('url38', ('url38', 'url37')),\n",
       " ('url11', ('url11', 'url43')),\n",
       " ('url18', ('url18', 'url37')),\n",
       " ('url5', ('url5', 'url45')),\n",
       " ('url6', ('url6', 'url1')),\n",
       " ('url47', ('url16', 'url47', 'url47', 'url17', 'url47', 'url23')),\n",
       " ('url34', ('url34', 'url34')),\n",
       " ('url45', ('url13', 'url45')),\n",
       " ('url19', ('url38', 'url19', 'url7', 'url19')),\n",
       " ('url50', ('url19', 'url50')),\n",
       " ('url41', ('url2', 'url41', 'url41', 'url11')),\n",
       " ('url25', ('url42', 'url25')),\n",
       " ('url28', ('url41', 'url28')),\n",
       " ('url23', ('url20', 'url23')),\n",
       " ('url32', ('url12', 'url32', 'url32', 'url14')),\n",
       " ('url4', ('url43', 'url4')),\n",
       " ('url35', ('url11', 'url35')),\n",
       " ('url22', ('url22', 'url9')),\n",
       " ('url13', ('url13', 'url8'))]"
      ]
     },
     "execution_count": 6,
     "metadata": {},
     "output_type": "execute_result"
    }
   ],
   "source": [
    "rddL1 = ss.read.csv(\"Links1.csv\", header= True).rdd\n",
    "rddL2 = ss.read.csv(\"Links2.csv\", header= True).rdd\n",
    "\n",
    "rL1 = rddL1.map(lambda x: ((x[1]), (x[0], x[1])))\n",
    "rL2 = rddL2.map(lambda x: ((x[0]), (x[0], x[1])))\n",
    "\n",
    "r = rL1 + rL2 \n",
    "\n",
    "r = r.reduceByKey(lambda x, y: x + y)\n",
    "\n",
    "r.collect()"
   ]
  },
  {
   "cell_type": "code",
   "execution_count": 7,
   "metadata": {
    "colab": {
     "base_uri": "https://localhost:8080/"
    },
    "id": "6V6MHu3Ojmjs",
    "outputId": "88a79ed2-1908-4eb3-96d8-b7a67d3994dc"
   },
   "outputs": [
    {
     "data": {
      "text/plain": [
       "[('url44', 'url26', 'url43'),\n",
       " ('url46', 'url36', 'url48'),\n",
       " ('url16', 'url47', 'url17'),\n",
       " ('url16', 'url47', 'url23'),\n",
       " ('url2', 'url41', 'url11'),\n",
       " ('url12', 'url32', 'url14')]"
      ]
     },
     "execution_count": 7,
     "metadata": {},
     "output_type": "execute_result"
    }
   ],
   "source": [
    "r = r.flatMap(lambda x: [((y[j], y[j+1], y[k+1])) for y in x if type(y) != str and len(y) >= 4 \n",
    "                         for j in range(0, len(y), 2) \n",
    "                         for k in range(j+2, len(y), 2) if y[j] != y[k] and y[j+1] == y[k]])\n",
    "r.collect()"
   ]
  },
  {
   "cell_type": "markdown",
   "metadata": {
    "id": "cxpnroqDA1bS"
   },
   "source": [
    "**Matrix Multiplication**"
   ]
  },
  {
   "cell_type": "code",
   "execution_count": 8,
   "metadata": {
    "colab": {
     "base_uri": "https://localhost:8080/"
    },
    "id": "Jdaw0QvtA67m",
    "outputId": "f830f703-bae5-4e2f-8878-9d53a7eb42b1"
   },
   "outputs": [
    {
     "name": "stdout",
     "output_type": "stream",
     "text": [
      "[(1, ('A', 1, 5.0)), (2, ('A', 1, 5.0)), (1, ('A', 2, 1.0)), (2, ('A', 2, 1.0)), (1, ('B', 1, 3.0)), (1, ('B', 2, 2.0)), (2, ('B', 1, 5.0)), (2, ('B', 2, 2.0))]\n",
      "[[((1, 1), 25.0), ((1, 2), 10.0), ((2, 1), 5.0), ((2, 2), 2.0)], [((1, 1), 15.0), ((1, 2), 10.0), ((2, 1), 3.0), ((2, 2), 2.0)]]\n"
     ]
    },
    {
     "data": {
      "text/plain": [
       "[((1, 1), 40.0), ((1, 2), 20.0), ((2, 1), 8.0), ((2, 2), 4.0)]"
      ]
     },
     "execution_count": 8,
     "metadata": {},
     "output_type": "execute_result"
    }
   ],
   "source": [
    "rddA = ss.read.csv(\"A.csv\", header= True).rdd\n",
    "rddB = ss.read.csv(\"B.csv\", header= True).rdd\n",
    "\n",
    "rA = rddA.map(lambda x: ((int(x[1]),('A', int(x[0]), (float(x[2]))))))\n",
    "rB = rddB.map(lambda x: ((int(x[0]),('B', int(x[1]), (float(x[2]))))))\n",
    "r = rA + rB\n",
    "\n",
    "print(r.collect())\n",
    "\n",
    "r = r.reduceByKey(lambda x,y: x+y).map(lambda x: [((int(x[1][i-1]), int(x[1][j-1])), x[1][i]*x[1][j]) \n",
    "                                                                        for i in range(2, int(len(x[1])/2)+2, 3) \n",
    "                                                                        for j in range(int(len(x[1])/2)+2, len(x[1])+2, 3)])\n",
    "\n",
    "print(r.collect())\n",
    "\n",
    "r = r.flatMap(lambda x: x).reduceByKey(lambda x, y: x+y).sortBy(lambda x: x[0])\n",
    "\n",
    "r.collect()"
   ]
  },
  {
   "cell_type": "markdown",
   "metadata": {
    "id": "22XvT7q7b2T-"
   },
   "source": [
    "**Matrix Multiplication with One MapReduce Step**"
   ]
  },
  {
   "cell_type": "code",
   "execution_count": 9,
   "metadata": {
    "colab": {
     "base_uri": "https://localhost:8080/"
    },
    "id": "mU8W0nSEI7kx",
    "outputId": "7bd6a7c1-25d4-427c-a5bc-5186cc01539f"
   },
   "outputs": [
    {
     "data": {
      "text/plain": [
       "[((1, 1), ('A', 1, 5.0)),\n",
       " ((1, 1), ('A', 2, 5.0)),\n",
       " ((1, 1), ('B', 1, 3.0)),\n",
       " ((1, 1), ('B', 1, 5.0)),\n",
       " ((1, 2), ('A', 1, 5.0)),\n",
       " ((1, 2), ('A', 2, 5.0)),\n",
       " ((1, 2), ('B', 2, 2.0)),\n",
       " ((1, 2), ('B', 2, 2.0)),\n",
       " ((2, 1), ('A', 1, 1.0)),\n",
       " ((2, 1), ('A', 2, 1.0)),\n",
       " ((2, 1), ('B', 1, 3.0)),\n",
       " ((2, 1), ('B', 1, 5.0)),\n",
       " ((2, 2), ('A', 1, 1.0)),\n",
       " ((2, 2), ('A', 2, 1.0)),\n",
       " ((2, 2), ('B', 2, 2.0)),\n",
       " ((2, 2), ('B', 2, 2.0))]"
      ]
     },
     "execution_count": 9,
     "metadata": {},
     "output_type": "execute_result"
    }
   ],
   "source": [
    "rddA = ss.read.csv(\"A.csv\", header= True).rdd\n",
    "rddB = ss.read.csv(\"B.csv\", header= True).rdd\n",
    "\n",
    "a = rddA.count()\n",
    "b = rddB.count()\n",
    "\n",
    "rA = rddA.flatMap(lambda x: [((int(x[0]), k), ('A', int(x[1]), float(x[2]))) for k in range(1, int(a/2)+1)])\n",
    "rB = rddB.flatMap(lambda x: [((k, int(x[1])), ('B', int(x[1]), float(x[2]))) for k in range(1, int(b/2)+1)])\n",
    "\n",
    "r = (rA + rB).sortBy(lambda x: x[0])\n",
    "\n",
    "r.collect()"
   ]
  },
  {
   "cell_type": "code",
   "execution_count": 10,
   "metadata": {
    "colab": {
     "base_uri": "https://localhost:8080/"
    },
    "id": "jkf3SOFVRtFX",
    "outputId": "2342d14b-5575-407f-e409-8aa20c1d92e3"
   },
   "outputs": [
    {
     "data": {
      "text/plain": [
       "[((1, 1), ('A', 1, 5.0, 'A', 2, 5.0, 'B', 1, 3.0, 'B', 1, 5.0)),\n",
       " ((2, 2), ('A', 1, 1.0, 'A', 2, 1.0, 'B', 2, 2.0, 'B', 2, 2.0)),\n",
       " ((1, 2), ('A', 1, 5.0, 'A', 2, 5.0, 'B', 2, 2.0, 'B', 2, 2.0)),\n",
       " ((2, 1), ('A', 1, 1.0, 'A', 2, 1.0, 'B', 1, 3.0, 'B', 1, 5.0))]"
      ]
     },
     "execution_count": 10,
     "metadata": {},
     "output_type": "execute_result"
    }
   ],
   "source": [
    "r = r.reduceByKey(lambda x, y: x + y)\n",
    "r.collect()"
   ]
  },
  {
   "cell_type": "code",
   "execution_count": 11,
   "metadata": {
    "colab": {
     "base_uri": "https://localhost:8080/"
    },
    "id": "CEBENwPaUBvO",
    "outputId": "accf53a1-794e-4869-ead4-e3e374eb4a7f"
   },
   "outputs": [
    {
     "data": {
      "text/plain": [
       "[((1, 1), 40.0), ((1, 2), 20.0), ((2, 1), 8.0), ((2, 2), 4.0)]"
      ]
     },
     "execution_count": 11,
     "metadata": {},
     "output_type": "execute_result"
    }
   ],
   "source": [
    "r = r.map(lambda x: [(x[0], x[1][i]*x[1][j]) \n",
    "                                           for i in range(2, int(len(x[1])/2)+2, 3) \n",
    "                                           for j in range(int(len(x[1])/2)+2, len(x[1])+2, 3) \n",
    "                                           if x[1][i-1] == x[1][j-1]]).flatMap(lambda x: x).reduceByKey(lambda x, y: x + y).sortBy(lambda x: x[0])\n",
    "r.collect()"
   ]
  }
 ],
 "metadata": {
  "colab": {
   "collapsed_sections": [],
   "name": "AlgorithmsfromSection2.3.ipynb",
   "provenance": []
  },
  "kernelspec": {
   "display_name": "Python 3 (ipykernel)",
   "language": "python",
   "name": "python3"
  },
  "language_info": {
   "codemirror_mode": {
    "name": "ipython",
    "version": 3
   },
   "file_extension": ".py",
   "mimetype": "text/x-python",
   "name": "python",
   "nbconvert_exporter": "python",
   "pygments_lexer": "ipython3",
   "version": "3.9.7"
  }
 },
 "nbformat": 4,
 "nbformat_minor": 1
}
